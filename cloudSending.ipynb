{
 "cells": [
  {
   "cell_type": "code",
   "execution_count": 1,
   "metadata": {},
   "outputs": [
    {
     "name": "stderr",
     "output_type": "stream",
     "text": [
      "c:\\Users\\daryl\\AppData\\Local\\Programs\\Python\\Python311\\Lib\\site-packages\\pinecone\\index.py:4: TqdmExperimentalWarning: Using `tqdm.autonotebook.tqdm` in notebook mode. Use `tqdm.tqdm` instead to force console mode (e.g. in jupyter console)\n",
      "  from tqdm.autonotebook import tqdm\n"
     ]
    }
   ],
   "source": [
    "from Utility import df_ops, music_ops, vmd_ops, io_ops, cloud_ops, interpolate\n",
    "import pandas as pd\n",
    "import numpy as np\n",
    "import pymeshio.common\n",
    "\n",
    "pd.set_option('display.max_columns', None)  # Show all columns\n",
    "pd.set_option('display.expand_frame_repr', False)  # Don't wrap to multiple pages\n",
    "pd.set_option('max_colwidth', None)  # No max column width\n",
    "\n",
    "\n",
    "#df_ops.saveDfToFeather(vmd_ops.getDfFromVmdFileName(\"play\\\\play.vmd\"), \"play\\\\play.feather\")"
   ]
  },
  {
   "cell_type": "code",
   "execution_count": 2,
   "metadata": {},
   "outputs": [],
   "source": [
    "# df = df_ops.loadDfFromFeather('play\\\\play.feather')\n",
    "# df = vmd_ops.filterDataframeForValidBoneNames(df)\n",
    "# vmd_ops.saveDfToVmdFile(df, 'play\\\\validBone.vmd')"
   ]
  },
  {
   "cell_type": "code",
   "execution_count": 12,
   "metadata": {},
   "outputs": [],
   "source": [
    "\n",
    "def normalizePositionsToCenter(df):\n",
    "  df_position_bones = df[df['name'].isin(['センター', '左足ＩＫ', '右足ＩＫ'])]\n",
    "  complement = vmd_ops.getComplement(df)\n",
    "  lastFrame = df_ops.getLastFrame(df_position_bones)\n",
    "  centerBone = 'センター'\n",
    "  footIKBones = ['左足ＩＫ', '右足ＩＫ']\n",
    "  boneList = [centerBone] + footIKBones\n",
    "\n",
    "  lastBoneList = {boneName: {\"frameNumber\": None, \"position\": None, \"rotation\": None} for boneName in boneList}\n",
    "  for boneName in lastBoneList.keys(): #init lastbonelist\n",
    "    lastBoneList[boneName] = interpolate.getNextBoneOccurence(df_position_bones, boneName, 0)\n",
    "  nextBoneList = {boneName: {\"frameNumber\": -1, \"position\": lastBoneList[boneName]['position'], \"rotation\": lastBoneList[boneName]['rotation']} for boneName in boneList}\n",
    "\n",
    "  newFrames = []\n",
    "  for currentFrameNumber in range(0, lastFrame + 1):\n",
    "    frameDf = df_position_bones[df_position_bones['frame'] == currentFrameNumber]\n",
    "    presentBonesOfBoneList = [boneName for boneName in boneList if boneName in frameDf['name'].values]\n",
    "    for boneName in presentBonesOfBoneList:\n",
    "      if currentFrameNumber > nextBoneList[boneName]['frameNumber']:\n",
    "        lastBoneList, nextBoneList = interpolate.updateBoneListsForNextOccurenceOfBone(boneName, currentFrameNumber, lastFrame, lastBoneList, nextBoneList, df_position_bones)\n",
    "      if boneName == centerBone:\n",
    "        for footIKBone in [footIKBone for footIKBone in footIKBones if footIKBone not in presentBonesOfBoneList]:\n",
    "          interpolatedFootBonePosition = interpolate.calculateVector3Porportion(currentFrameNumber, lastBoneList[footIKBone], nextBoneList[footIKBone])\n",
    "          newFrames.append([\n",
    "            currentFrameNumber,\n",
    "            footIKBone,\n",
    "            interpolatedFootBonePosition - nextBoneList[centerBone]['position'],\n",
    "            interpolate.calculateQuaternionPorportion(currentFrameNumber, lastBoneList[footIKBone], nextBoneList[footIKBone])\n",
    "          ])\n",
    "        for footIKBone in [footIKBone for footIKBone in footIKBones if footIKBone in presentBonesOfBoneList]:\n",
    "          df_position_bones.loc[(df_position_bones['frame'] == currentFrameNumber) & (df_position_bones['name'] == footIKBone), 'position'] -= nextBoneList[centerBone]['position']\n",
    "        break\n",
    "      else:\n",
    "        interpolatedCenterBonePosition = interpolate.calculateVector3Porportion(currentFrameNumber, lastBoneList[centerBone], nextBoneList[centerBone])\n",
    "        df_position_bones.loc[(df_position_bones['frame'] == currentFrameNumber) & (df_position_bones['name'] == boneName), 'position'] -= interpolatedCenterBonePosition\n",
    "  newFramesDf = pd.DataFrame(newFrames, columns=['frame', 'name', 'position', 'rotation'])\n",
    "  normalized_to_center_df = df.copy()\n",
    "  normalized_to_center_df.update(df_position_bones, overwrite=True)\n",
    "  normalized_to_center_df = pd.concat([normalized_to_center_df, newFramesDf])\n",
    "  normalized_to_center_df = df_ops.sortDf(normalized_to_center_df)\n",
    "  normalized_to_center_df['complement'] = complement\n",
    "  def set_position(row, centerBone):\n",
    "    if row['name'] == centerBone:\n",
    "      return pymeshio.common.Vector3(0, 0, 0)\n",
    "    else:\n",
    "      return row['position']\n",
    "  normalized_to_center_df['position'] = normalized_to_center_df.apply(lambda row: set_position(row, centerBone), axis=1)\n",
    "  normalized_to_center_df = df_ops.sortDf(normalized_to_center_df)\n",
    "  return normalized_to_center_df\n",
    "\n",
    "df = df_ops.loadDfFromFeather('play\\\\play.feather')\n",
    "df = vmd_ops.filterDataframeForCoreBoneNames(df)\n",
    "normalized_to_center_df = normalizePositionsToCenter(df)\n",
    "interpolated_centered_df = interpolate.addInterpolationsToEachFrame(normalized_to_center_df)"
   ]
  },
  {
   "cell_type": "code",
   "execution_count": 13,
   "metadata": {},
   "outputs": [],
   "source": [
    "df_ops.saveDfToFeather(interpolated_centered_df, 'play\\\\play_interpolated_centered.feather')"
   ]
  },
  {
   "cell_type": "code",
   "execution_count": 14,
   "metadata": {},
   "outputs": [
    {
     "name": "stdout",
     "output_type": "stream",
     "text": [
      "112200\n"
     ]
    }
   ],
   "source": [
    "vmd_ops.saveDfToVmdFile(interpolated_centered_df, 'play\\\\play_interpolated_centered.vmd')"
   ]
  },
  {
   "cell_type": "code",
   "execution_count": null,
   "metadata": {},
   "outputs": [],
   "source": [
    "class FrameForVectorization:\n",
    "  def __init__(self, df):\n",
    "    self.df = df\n",
    "    self.core_bone_names = self.getCoreBoneNames()\n",
    "\n",
    "    for bone_name, attributes in self.core_bone_names.items():\n",
    "      position = self.df[self.df['name'] == bone_name]['position']\n",
    "      rotation = self.df[self.df['name'] == bone_name]['rotation']\n",
    "      setattr(self, bone_name, {\n",
    "        'pos': {\n",
    "          'x': position.x,\n",
    "          'y': position.y,\n",
    "          'z': position.z\n",
    "        },\n",
    "        'hasPosition': True if 'position_weight' in attributes else False,\n",
    "        'positionWeight': attributes['position_weight'] if 'position_weight' in attributes else 0,\n",
    "        'rot': {\n",
    "          'x': rotation.x,\n",
    "          'y': rotation.y,\n",
    "          'z': rotation.z,\n",
    "          'w': rotation.w\n",
    "        },\n",
    "        'rotationWeight': attributes['rotation_weight']\n",
    "      })\n",
    "\n",
    "    @staticmethod\n",
    "    def getCoreBoneNames():\n",
    "      return {\n",
    "        \"センター\": {'rotation_weight': 1, 'position_weight': 1},\n",
    "        \"上半身\": {'rotation_weight': 1},\n",
    "        \"上半身2\": {'rotation_weight': 1},\n",
    "        \"首\": {'rotation_weight': 1},\n",
    "        \"頭\": {'rotation_weight': 1},\n",
    "        \"下半身\": {'rotation_weight': 1},\n",
    "        \"左肩\": {'rotation_weight': 1},\n",
    "        \"左腕\": {'rotation_weight': 1},\n",
    "        \"左ひじ\": {'rotation_weight': 1},\n",
    "        \"左足\": {'rotation_weight': 1},\n",
    "        \"左ひざ\": {'rotation_weight': 1},\n",
    "        \"左足首\": {'rotation_weight': 1},\n",
    "        \"左足ＩＫ\": {'rotation_weight': 1, 'position_weight': 1},\n",
    "        \"右足ＩＫ\": {'rotation_weight': 1, 'position_weight': 1},\n",
    "        \"右肩\": {'rotation_weight': 1},\n",
    "        \"右腕\": {'rotation_weight': 1},\n",
    "        \"右ひじ\": {'rotation_weight': 1},\n",
    "        \"右足\": {'rotation_weight': 1},\n",
    "        \"右ひざ\": {'rotation_weight': 1},\n",
    "        \"右足首\": {'rotation_weight': 1},\n",
    "        \"右腕捩\": {'rotation_weight': 1},\n",
    "        \"左腕捩\": {'rotation_weight': 1}\n",
    "      }\n",
    "      \n",
    "\n",
    "def vectorizeFrame(df, frameNumber, animationName):\n",
    "  df_frame = df[df['frame'] == frameNumber]\n",
    "\n",
    "  vectorId = animationName + \"-\" + str(frameNumber)\n",
    "  vector = (vectorId,)\n",
    "\n",
    "def upsertDfAnimation(pinecone, df, animationName):\n",
    "  lastFrame = df_ops.getLastFrame(df)\n",
    "\n",
    "  vectorsOfFrames = []\n",
    "  for currentFrameNumber in range(0, lastFrame + 1):\n",
    "    vectorsOfFrames.append(vectorizeFrame(df, currentFrameNumber, animationName))\n",
    "    \n",
    "\n",
    "pinecone = cloud_ops.initPinecone()\n",
    "upsertDfAnimation(pinecone, interpolated_centered_df, 'iroha uta')\n"
   ]
  }
 ],
 "metadata": {
  "kernelspec": {
   "display_name": "Python 3",
   "language": "python",
   "name": "python3"
  },
  "language_info": {
   "codemirror_mode": {
    "name": "ipython",
    "version": 3
   },
   "file_extension": ".py",
   "mimetype": "text/x-python",
   "name": "python",
   "nbconvert_exporter": "python",
   "pygments_lexer": "ipython3",
   "version": "3.11.2"
  },
  "orig_nbformat": 4
 },
 "nbformat": 4,
 "nbformat_minor": 2
}
