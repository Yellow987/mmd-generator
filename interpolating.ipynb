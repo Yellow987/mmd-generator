{
 "cells": [
  {
   "cell_type": "code",
   "execution_count": 1,
   "metadata": {},
   "outputs": [
    {
     "name": "stderr",
     "output_type": "stream",
     "text": [
      "c:\\Users\\daryl\\AppData\\Local\\Programs\\Python\\Python311\\Lib\\site-packages\\pinecone\\index.py:4: TqdmExperimentalWarning: Using `tqdm.autonotebook.tqdm` in notebook mode. Use `tqdm.tqdm` instead to force console mode (e.g. in jupyter console)\n",
      "  from tqdm.autonotebook import tqdm\n"
     ]
    }
   ],
   "source": [
    "from Utility import df_ops, music_ops, vmd_ops, io_ops, cloud_ops\n",
    "import pandas as pd\n",
    "import numpy as np\n",
    "import pymeshio.common\n",
    "\n",
    "pd.set_option('display.max_columns', None)  # Show all columns\n",
    "pd.set_option('display.expand_frame_repr', False)  # Don't wrap to multiple pages\n",
    "pd.set_option('max_colwidth', None)  # No max column width\n"
   ]
  },
  {
   "cell_type": "code",
   "execution_count": 10,
   "metadata": {},
   "outputs": [],
   "source": [
    "VMD_TO_LOAD = 'inputDataVariety/Last Christmas/motion.vmd'\n",
    "SAVE_FOLDER = 'data/'\n",
    "SAVE_FILENAME= 'LastChristmas-cloud'\n",
    "SONG_TO_LOAD = 'data/SuperDuper/song3_sduper [1].wav'\n",
    "INPUT_DATA_FOLDER = 'inputDataVariety'\n",
    "\n",
    "settingsSettings = {\n",
    "  \"settings\": {\n",
    "    \"index.knn\": True\n",
    "  }\n",
    "}\n",
    "settingsBody = {\n",
    "  \"mappings\": {\n",
    "    \"properties\": {\n",
    "      \"frame\": {\n",
    "        \"type\": \"knn_vector\",\n",
    "        \"dimension\": 101\n",
    "      },\n",
    "      \"animation-name\": {\n",
    "        \"type\": \"text\"\n",
    "      },\n",
    "      \"frame-number\": {\n",
    "        \"type\": \"int\"\n",
    "      }\n",
    "    }\n",
    "  }\n",
    "}"
   ]
  },
  {
   "cell_type": "code",
   "execution_count": 11,
   "metadata": {},
   "outputs": [],
   "source": [
    "#create_index(client, 'frames-index', settingsSettings.update(settingsBody))"
   ]
  },
  {
   "cell_type": "code",
   "execution_count": 12,
   "metadata": {},
   "outputs": [],
   "source": [
    "df = vmd_ops.convertVMDToDataFrame(vmd_ops.loadVmdFromFile(VMD_TO_LOAD))\n",
    "df = vmd_ops.filterDataframeForCoreBoneNames(df)"
   ]
  },
  {
   "cell_type": "code",
   "execution_count": 13,
   "metadata": {},
   "outputs": [
    {
     "name": "stdout",
     "output_type": "stream",
     "text": [
      "IndexDescription(name='frames-index', metric='cosine', replicas=1, dimension=101.0, shards=1, pods=1, pod_type='starter', status={'ready': True, 'state': 'Ready'}, metadata_config=None, source_collection='')\n"
     ]
    }
   ],
   "source": [
    "pine = cloud_ops.initPinecone()\n",
    "cloud_ops.getPineconeIndexStats(pine, 'frames-index')"
   ]
  },
  {
   "cell_type": "code",
   "execution_count": 14,
   "metadata": {},
   "outputs": [
    {
     "name": "stdout",
     "output_type": "stream",
     "text": [
      "inputDataSingle\\PV607 - Secret Police\\PV607_HIM_P1_00.vmd\n",
      "inputDataSingle\\PV607 - Secret Police\n"
     ]
    }
   ],
   "source": [
    "def getMissingBones(df, boneList):\n",
    "  df_bone_names_set = set(df['name'])\n",
    "  boneList_set = set(boneList)\n",
    "  return list(boneList_set - df_bone_names_set)\n",
    "\n",
    "def getNextBoneOccurence(df, boneName, startFrame):\n",
    "  boneDf = df[df['name'] == boneName]\n",
    "  boneDf = boneDf[boneDf['frame'] >= startFrame]\n",
    "  if boneDf.empty:\n",
    "    return None\n",
    "  else:\n",
    "    return {\"frameNumber\": boneDf.iloc[0]['frame'], \"position\": boneDf.iloc[0]['position'], \"rotation\": boneDf.iloc[0]['rotation']}\n",
    "  \n",
    "def calculateVector3Porportion(currentFrame, lastBoneOccurence, nextBoneOccurence):\n",
    "  if lastBoneOccurence['frameNumber'] == nextBoneOccurence['frameNumber']:\n",
    "    return lastBoneOccurence['position']\n",
    "  else:\n",
    "    porportion = (currentFrame - lastBoneOccurence['frameNumber']) / (nextBoneOccurence['frameNumber'] - lastBoneOccurence['frameNumber'])\n",
    "    return pymeshio.common.Vector3(\n",
    "      lastBoneOccurence['position'].x + (nextBoneOccurence['position'].x - lastBoneOccurence['position'].x) * porportion,\n",
    "      lastBoneOccurence['position'].y + (nextBoneOccurence['position'].y - lastBoneOccurence['position'].y) * porportion,\n",
    "      lastBoneOccurence['position'].z + (nextBoneOccurence['position'].z - lastBoneOccurence['position'].z) * porportion\n",
    "    )\n",
    "\n",
    "def calculateVector4Porportion(currentFrame, lastBoneOccurence, nextBoneOccurence):\n",
    "  if lastBoneOccurence['frameNumber'] == nextBoneOccurence['frameNumber']:\n",
    "    return lastBoneOccurence['rotation']\n",
    "  else:\n",
    "    porportion = (currentFrame - lastBoneOccurence['frameNumber']) / (nextBoneOccurence['frameNumber'] - lastBoneOccurence['frameNumber'])\n",
    "    return pymeshio.common.Vector4(\n",
    "      lastBoneOccurence['rotation'].x + (nextBoneOccurence['rotation'].x - lastBoneOccurence['rotation'].x) * porportion,\n",
    "      lastBoneOccurence['rotation'].y + (nextBoneOccurence['rotation'].y - lastBoneOccurence['rotation'].y) * porportion,\n",
    "      lastBoneOccurence['rotation'].z + (nextBoneOccurence['rotation'].z - lastBoneOccurence['rotation'].z) * porportion,\n",
    "      lastBoneOccurence['rotation'].w + (nextBoneOccurence['rotation'].w - lastBoneOccurence['rotation'].w) * porportion\n",
    "    )\n",
    "\n",
    "import pymeshio.common\n",
    "def addInterpolationsToEachFrame(df):\n",
    "  df = df_ops.sortDf(df)\n",
    "  complement = vmd_ops.getComplement(df)\n",
    "  boneNames = df['name'].unique().tolist()\n",
    "\n",
    "  lastBoneList = {boneName: {\"frameNumber\": None, \"position\": None, \"rotation\": None} for boneName in boneNames}\n",
    "  for boneName in lastBoneList.keys(): #init lastbonelist\n",
    "    lastBoneList[boneName] = getNextBoneOccurence(df, boneName, 0)\n",
    "  nextBoneList = {boneName: {\"frameNumber\": -1, \"position\": lastBoneList[boneName]['position'], \"rotation\": lastBoneList[boneName]['rotation']} for boneName in boneNames}\n",
    "\n",
    "  newFrames = []\n",
    "  lastFrame = df['frame'].max()\n",
    "  for currentFrameNumber in range(0, lastFrame + 1):\n",
    "    frameDf = df[df['frame'] == currentFrameNumber]\n",
    "    missingBonesOfCurrentFrame = getMissingBones(frameDf, boneNames)\n",
    "    for missingBone in missingBonesOfCurrentFrame:\n",
    "      if currentFrameNumber > nextBoneList[missingBone]['frameNumber']:\n",
    "        lastBoneList[missingBone] = nextBoneList[missingBone]\n",
    "        nextBoneOccurenceValues = getNextBoneOccurence(df, missingBone, currentFrameNumber)\n",
    "        nextBoneList[missingBone] = nextBoneOccurenceValues if nextBoneOccurenceValues is not None else nextBoneList[missingBone]\n",
    "      newFrames.append([\n",
    "        currentFrameNumber,\n",
    "        missingBone,\n",
    "        lastBoneList[missingBone]['position'] if missingBone not in vmd_ops.getBonesWherePositionIsUsed() else calculateVector3Porportion(currentFrameNumber, lastBoneList[missingBone], nextBoneList[missingBone]),\n",
    "        calculateVector4Porportion(currentFrameNumber, lastBoneList[missingBone], nextBoneList[missingBone])\n",
    "      ])\n",
    "      #print(currentFrameNumber, missingBone, nextBoneList[missingBone]['position'], lastBoneList[missingBone]['position'])\n",
    "  newFramesDf = pd.DataFrame(newFrames, columns=['frame', 'name', 'position', 'rotation'])\n",
    "  interpolated_df = df.copy()\n",
    "  interpolated_df = pd.concat([df, newFramesDf])\n",
    "  interpolated_df = df_ops.sortDf(interpolated_df)\n",
    "  interpolated_df['complement'] = complement\n",
    "  return interpolated_df\n",
    "\n",
    "core_interpolated_df = None\n",
    "def func(wav, vmd, folderName):\n",
    "  df = vmd_ops.getDfFromVmdFileName(vmd)\n",
    "  print(vmd)\n",
    "  core_df = df[df['name'].isin(vmd_ops.getCoreBoneNames())]\n",
    "  global core_interpolated_df\n",
    "  core_interpolated_df = addInterpolationsToEachFrame(core_df)\n",
    "  #vmd_ops.saveDfToVmdFile(core_interpolated_df, SAVE_FOLDER + '/motionInterpolated.vmd', customComplement=complement)\n",
    "  folderPath = \"\\\\\".join(vmd.split('\\\\')[:-1])\n",
    "  print(folderPath)\n",
    "  df_ops.saveDfToFeather(core_interpolated_df, folderPath  + '\\\\interpolatedMotion.feather')\n",
    "\n",
    "io_ops.apply_func_to_inputData(func, \"inputDataSingle\")"
   ]
  },
  {
   "cell_type": "code",
   "execution_count": 15,
   "metadata": {},
   "outputs": [
    {
     "name": "stdout",
     "output_type": "stream",
     "text": [
      "43.87112808227539\n"
     ]
    }
   ],
   "source": [
    "print(core_interpolated_df.iloc[0]['position'].z)"
   ]
  },
  {
   "cell_type": "code",
   "execution_count": null,
   "metadata": {},
   "outputs": [],
   "source": []
  },
  {
   "cell_type": "code",
   "execution_count": 16,
   "metadata": {},
   "outputs": [],
   "source": [
    "\n",
    "# frames = df[df['name'] == \"左ひじ\"]\n",
    "# zero_vector = pymeshio.common.Vector3(0, 0, 0)\n",
    "# zero_quaternion = pymeshio.common.Vector4(0, 0, 0, 0)\n",
    "\n",
    "# def is_not_zero_vector(position):\n",
    "#   return position != zero_quaternion\n",
    "\n",
    "# filtered_df = df[df['rotation'].apply(is_not_zero_vector)]\n",
    "\n",
    "# print(filtered_df['name'].unique())\n",
    "# print(len(vmd_ops.getCoreBoneNames()))\n"
   ]
  }
 ],
 "metadata": {
  "kernelspec": {
   "display_name": "Python 3",
   "language": "python",
   "name": "python3"
  },
  "language_info": {
   "codemirror_mode": {
    "name": "ipython",
    "version": 3
   },
   "file_extension": ".py",
   "mimetype": "text/x-python",
   "name": "python",
   "nbconvert_exporter": "python",
   "pygments_lexer": "ipython3",
   "version": "3.11.2"
  },
  "orig_nbformat": 4
 },
 "nbformat": 4,
 "nbformat_minor": 2
}
