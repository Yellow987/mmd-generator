{
 "cells": [
  {
   "cell_type": "code",
   "execution_count": 24,
   "metadata": {},
   "outputs": [],
   "source": [
    "from Utility import df_ops, music_ops, vmd_ops, io_ops\n",
    "import pandas as pd\n",
    "import numpy as np\n",
    "import pymeshio.common\n",
    "\n",
    "pd.set_option('display.max_columns', None)  # Show all columns\n",
    "pd.set_option('display.expand_frame_repr', False)  # Don't wrap to multiple pages\n",
    "pd.set_option('max_colwidth', None)  # No max column width\n"
   ]
  },
  {
   "cell_type": "code",
   "execution_count": 3,
   "metadata": {},
   "outputs": [],
   "source": [
    "VMD_TO_LOAD = 'inputDataVariety/Last Christmas/motion.vmd'\n",
    "SAVE_FOLDER = 'data/'\n",
    "SAVE_FILENAME= 'LastChristmas'\n",
    "SONG_TO_LOAD = 'data/SuperDuper/song3_sduper [1].wav'\n",
    "INPUT_DATA_FOLDER = 'inputDataVariety'\n",
    "\n",
    "settingsSettings = {\n",
    "  \"settings\": {\n",
    "    \"index.knn\": True\n",
    "  }\n",
    "}\n",
    "settingsBody = {\n",
    "  \"mappings\": {\n",
    "    \"properties\": {\n",
    "      \"frame\": {\n",
    "        \"type\": \"knn_vector\",\n",
    "        \"dimension\": 3\n",
    "      },\n",
    "      \"animation-name\": {\n",
    "        \"type\": \"text\"\n",
    "      },\n",
    "      \"frame-number\": {\n",
    "        \"type\": \"int\"\n",
    "      }\n",
    "    }\n",
    "  }\n",
    "}"
   ]
  },
  {
   "cell_type": "code",
   "execution_count": 4,
   "metadata": {},
   "outputs": [],
   "source": [
    "#create_index(client, 'frames-index', settingsSettings.update(settingsBody))"
   ]
  },
  {
   "cell_type": "code",
   "execution_count": 5,
   "metadata": {},
   "outputs": [],
   "source": [
    "df = vmd_ops.convertVMDToDataFrame(vmd_ops.loadVmdFromFile(VMD_TO_LOAD))\n",
    "df = vmd_ops.filterDataframeForCoreBoneNames(df)"
   ]
  },
  {
   "cell_type": "code",
   "execution_count": 27,
   "metadata": {},
   "outputs": [
    {
     "name": "stdout",
     "output_type": "stream",
     "text": [
      "['センター' '左足ＩＫ' '右足ＩＫ']\n"
     ]
    }
   ],
   "source": [
    "\n",
    "frames = df[df['name'] == \"左ひじ\"]\n",
    "zero_vector = pymeshio.common.Vector3(0.000000, 0.00000000000000000000000000000000, 0.000000)\n",
    "\n",
    "def is_not_zero_vector(position):\n",
    "  return position != zero_vector\n",
    "\n",
    "filtered_df = df[df['position'].apply(is_not_zero_vector)]\n",
    "\n",
    "print(filtered_df['name'].unique())\n"
   ]
  }
 ],
 "metadata": {
  "kernelspec": {
   "display_name": "Python 3",
   "language": "python",
   "name": "python3"
  },
  "language_info": {
   "codemirror_mode": {
    "name": "ipython",
    "version": 3
   },
   "file_extension": ".py",
   "mimetype": "text/x-python",
   "name": "python",
   "nbconvert_exporter": "python",
   "pygments_lexer": "ipython3",
   "version": "3.11.2"
  },
  "orig_nbformat": 4
 },
 "nbformat": 4,
 "nbformat_minor": 2
}
