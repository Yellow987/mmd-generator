{
 "cells": [
  {
   "cell_type": "code",
   "execution_count": 6,
   "metadata": {},
   "outputs": [],
   "source": [
    "INPUT_AUDIO_FOLDER = 'inputAudio'\n",
    "INPUT_AUDIO_FILENAME = 'marine'\n",
    "OUTPUT_AUDIO_FOLDER = 'outputAudio'\n",
    "\n",
    "import librosa\n",
    "import ruptures as rpt\n",
    "import matplotlib.pyplot as plt\n",
    "from spleeter.separator import Separator"
   ]
  },
  {
   "cell_type": "code",
   "execution_count": null,
   "metadata": {},
   "outputs": [],
   "source": [
    "\n",
    "\n",
    "# Initialize separator in '2stems' mode.\n",
    "separator = Separator('spleeter:2stems')\n",
    "\n",
    "# Perform the separation.\n",
    "separator.separate_to_file(INPUT_AUDIO_FOLDER + \"/\" + INPUT_AUDIO_FILENAME + \".mp3\", OUTPUT_AUDIO_FOLDER)\n"
   ]
  },
  {
   "cell_type": "code",
   "execution_count": 7,
   "metadata": {},
   "outputs": [
    {
     "name": "stderr",
     "output_type": "stream",
     "text": [
      "/Users/daryldd/Documents/misc/mmd-generator/.venv/lib/python3.8/site-packages/numpy/core/fromnumeric.py:3464: RuntimeWarning: Mean of empty slice.\n",
      "  return _methods._mean(a, axis=axis, dtype=dtype,\n",
      "/Users/daryldd/Documents/misc/mmd-generator/.venv/lib/python3.8/site-packages/numpy/core/_methods.py:192: RuntimeWarning: invalid value encountered in scalar divide\n",
      "  ret = ret.dtype.type(ret / rcount)\n"
     ]
    },
    {
     "ename": "BadSegmentationParameters",
     "evalue": "",
     "output_type": "error",
     "traceback": [
      "\u001b[0;31m---------------------------------------------------------------------------\u001b[0m",
      "\u001b[0;31mBadSegmentationParameters\u001b[0m                 Traceback (most recent call last)",
      "Cell \u001b[0;32mIn[7], line 10\u001b[0m\n\u001b[1;32m      8\u001b[0m \u001b[39m# Use ruptures to detect change points\u001b[39;00m\n\u001b[1;32m      9\u001b[0m algo \u001b[39m=\u001b[39m rpt\u001b[39m.\u001b[39mPelt(model\u001b[39m=\u001b[39m\u001b[39m\"\u001b[39m\u001b[39mrbf\u001b[39m\u001b[39m\"\u001b[39m)\u001b[39m.\u001b[39mfit(feature[\u001b[39m0\u001b[39m])\n\u001b[0;32m---> 10\u001b[0m result \u001b[39m=\u001b[39m algo\u001b[39m.\u001b[39;49mpredict(pen\u001b[39m=\u001b[39;49m\u001b[39m10\u001b[39;49m)\n\u001b[1;32m     12\u001b[0m \u001b[39m# Visualize the detected change points on the feature\u001b[39;00m\n\u001b[1;32m     13\u001b[0m plt\u001b[39m.\u001b[39mfigure(figsize\u001b[39m=\u001b[39m(\u001b[39m10\u001b[39m, \u001b[39m6\u001b[39m))\n",
      "File \u001b[0;32m~/Documents/misc/mmd-generator/.venv/lib/python3.8/site-packages/ruptures/detection/pelt.py:128\u001b[0m, in \u001b[0;36mPelt.predict\u001b[0;34m(self, pen)\u001b[0m\n\u001b[1;32m    121\u001b[0m \u001b[39m# raise an exception in case of impossible segmentation configuration\u001b[39;00m\n\u001b[1;32m    122\u001b[0m \u001b[39mif\u001b[39;00m \u001b[39mnot\u001b[39;00m sanity_check(\n\u001b[1;32m    123\u001b[0m     n_samples\u001b[39m=\u001b[39m\u001b[39mself\u001b[39m\u001b[39m.\u001b[39mcost\u001b[39m.\u001b[39msignal\u001b[39m.\u001b[39mshape[\u001b[39m0\u001b[39m],\n\u001b[1;32m    124\u001b[0m     n_bkps\u001b[39m=\u001b[39m\u001b[39m0\u001b[39m,\n\u001b[1;32m    125\u001b[0m     jump\u001b[39m=\u001b[39m\u001b[39mself\u001b[39m\u001b[39m.\u001b[39mjump,\n\u001b[1;32m    126\u001b[0m     min_size\u001b[39m=\u001b[39m\u001b[39mself\u001b[39m\u001b[39m.\u001b[39mmin_size,\n\u001b[1;32m    127\u001b[0m ):\n\u001b[0;32m--> 128\u001b[0m     \u001b[39mraise\u001b[39;00m BadSegmentationParameters\n\u001b[1;32m    130\u001b[0m partition \u001b[39m=\u001b[39m \u001b[39mself\u001b[39m\u001b[39m.\u001b[39m_seg(pen)\n\u001b[1;32m    131\u001b[0m bkps \u001b[39m=\u001b[39m \u001b[39msorted\u001b[39m(e \u001b[39mfor\u001b[39;00m s, e \u001b[39min\u001b[39;00m partition\u001b[39m.\u001b[39mkeys())\n",
      "\u001b[0;31mBadSegmentationParameters\u001b[0m: "
     ]
    }
   ],
   "source": [
    "# Load the audio file and extract a feature\n",
    "outputVocals = OUTPUT_AUDIO_FOLDER + \"/\" + INPUT_AUDIO_FILENAME + \"/\" + \"vocals\" + \".wav\"\n",
    "inputVocals = INPUT_AUDIO_FOLDER + \"/\" + INPUT_AUDIO_FILENAME + \".mp3\"\n",
    "\n",
    "y, sr = librosa.load(inputVocals, sr=None)\n",
    "feature = librosa.feature.rms(y=y)\n",
    "\n",
    "# Use ruptures to detect change points\n",
    "algo = rpt.Pelt(model=\"rbf\").fit(feature[0])\n",
    "result = algo.predict(pen=10)\n",
    "\n",
    "# Visualize the detected change points on the feature\n",
    "plt.figure(figsize=(10, 6))\n",
    "rpt.display(feature[0], [], result)\n",
    "plt.title(\"Change Point Detection on Audio Feature\")\n",
    "plt.show()"
   ]
  },
  {
   "cell_type": "code",
   "execution_count": null,
   "metadata": {},
   "outputs": [],
   "source": [
    "# Generate a silent track for the length of loaded audio\n",
    "hop_length = 512\n",
    "\n",
    "silent_track = np.zeros_like(y)\n",
    "\n",
    "# Load a beep sound (assumed to be short and sampled at the same rate as the main audio)\n",
    "beep, _ = librosa.load('beep_test.wav', sr=sr)\n",
    "\n",
    "# Add a beep sound at detected feature locations\n",
    "for change_point in result:\n",
    "  start_sample = change_point * hop_length  # hop_length is the hop size used in feature extraction (default is 512 for RMS)\n",
    "  end_sample = start_sample + len(beep)\n",
    "  if end_sample < len(silent_track):\n",
    "    silent_track[start_sample:end_sample] += beep\n",
    "\n",
    "# Save the resultant audio\n",
    "sf.write(OUTPUT_AUDIO_FOLDER + \"/\" + 'output_with_beeps.wav', silent_track, sr)"
   ]
  },
  {
   "cell_type": "code",
   "execution_count": null,
   "metadata": {},
   "outputs": [],
   "source": [
    "print(result[:10])\n"
   ]
  }
 ],
 "metadata": {
  "kernelspec": {
   "display_name": ".venv",
   "language": "python",
   "name": "python3"
  },
  "language_info": {
   "codemirror_mode": {
    "name": "ipython",
    "version": 3
   },
   "file_extension": ".py",
   "mimetype": "text/x-python",
   "name": "python",
   "nbconvert_exporter": "python",
   "pygments_lexer": "ipython3",
   "version": "3.8.0"
  },
  "orig_nbformat": 4
 },
 "nbformat": 4,
 "nbformat_minor": 2
}
