{
 "cells": [
  {
   "cell_type": "code",
   "execution_count": 6,
   "metadata": {},
   "outputs": [],
   "source": [
    "INPUT_AUDIO_FOLDER = 'inputAudio'\n",
    "INPUT_AUDIO_FILENAME = 'marine'\n",
    "OUTPUT_AUDIO_FOLDER = 'outputAudio'\n",
    "\n",
    "import librosa\n",
    "import ruptures as rpt\n",
    "import matplotlib.pyplot as plt\n",
    "from Utility import df_ops, music_ops, vmd_ops, io_ops, interpolate, cloud_ops\n",
    "from spleeter.separator import Separator"
   ]
  },
  {
   "cell_type": "code",
   "execution_count": 7,
   "metadata": {},
   "outputs": [
    {
     "name": "stdout",
     "output_type": "stream",
     "text": [
      "INFO:tensorflow:Using config: {'_model_dir': 'pretrained_models\\\\2stems', '_tf_random_seed': None, '_save_summary_steps': 100, '_save_checkpoints_steps': None, '_save_checkpoints_secs': 600, '_session_config': gpu_options {\n",
      "  per_process_gpu_memory_fraction: 0.7\n",
      "}\n",
      ", '_keep_checkpoint_max': 5, '_keep_checkpoint_every_n_hours': 10000, '_log_step_count_steps': 100, '_train_distribute': None, '_device_fn': None, '_protocol': None, '_eval_distribute': None, '_experimental_distribute': None, '_experimental_max_worker_delay_secs': None, '_session_creation_timeout_secs': 7200, '_checkpoint_save_graph_def': True, '_service': None, '_cluster_spec': ClusterSpec({}), '_task_type': 'worker', '_task_id': 0, '_global_id_in_cluster': 0, '_master': '', '_evaluation_master': '', '_is_chief': True, '_num_ps_replicas': 0, '_num_worker_replicas': 1}\n",
      "WARNING:tensorflow:From c:\\Users\\daryl\\OneDrive\\Desktop\\Keep_these\\MMD-python-dance\\.mmd\\lib\\site-packages\\spleeter\\separator.py:146: calling DatasetV2.from_generator (from tensorflow.python.data.ops.dataset_ops) with output_types is deprecated and will be removed in a future version.\n",
      "Instructions for updating:\n",
      "Use output_signature instead\n",
      "WARNING:tensorflow:From c:\\Users\\daryl\\OneDrive\\Desktop\\Keep_these\\MMD-python-dance\\.mmd\\lib\\site-packages\\spleeter\\separator.py:146: calling DatasetV2.from_generator (from tensorflow.python.data.ops.dataset_ops) with output_shapes is deprecated and will be removed in a future version.\n",
      "Instructions for updating:\n",
      "Use output_signature instead\n",
      "INFO:tensorflow:Calling model_fn.\n",
      "INFO:tensorflow:Apply unet for vocals_spectrogram\n",
      "WARNING:tensorflow:From c:\\Users\\daryl\\OneDrive\\Desktop\\Keep_these\\MMD-python-dance\\.mmd\\lib\\site-packages\\keras\\layers\\normalization\\batch_normalization.py:514: _colocate_with (from tensorflow.python.framework.ops) is deprecated and will be removed in a future version.\n",
      "Instructions for updating:\n",
      "Colocations handled automatically by placer.\n",
      "INFO:tensorflow:Apply unet for accompaniment_spectrogram\n",
      "INFO:tensorflow:Done calling model_fn.\n",
      "INFO:tensorflow:Graph was finalized.\n",
      "INFO:tensorflow:Restoring parameters from pretrained_models\\2stems\\model\n",
      "INFO:tensorflow:Running local_init_op.\n",
      "INFO:tensorflow:Done running local_init_op.\n"
     ]
    }
   ],
   "source": [
    "def analyze_audio(audio_file_path, rms_window_length=0.02, rms_hop_length=0.01, \n",
    "                  change_threshold_factor=2.5, cooldown_time=0.2, low_level_percentile=25):\n",
    "    # Load the audio file\n",
    "    y, sr = librosa.load(audio_file_path, sr=None)\n",
    "\n",
    "    # Calculate the RMS energy for each frame\n",
    "    frame_length = int(rms_window_length * sr)\n",
    "    hop_length = int(rms_hop_length * sr)\n",
    "    rms_energy = librosa.feature.rms(y=y, frame_length=frame_length, hop_length=hop_length)[0]\n",
    "\n",
    "    # Smooth the RMS energy using a moving average\n",
    "    smooth_rms_energy = np.convolve(rms_energy, np.ones(3)/3, mode='valid')\n",
    "\n",
    "    # Calculate the change in RMS energy between consecutive frames\n",
    "    rms_change = np.diff(smooth_rms_energy)\n",
    "\n",
    "    # Define 'low' RMS energy level as a percentile of the RMS energy\n",
    "    low_rms_level = np.percentile(smooth_rms_energy, low_level_percentile)\n",
    "\n",
    "    # Define a threshold for significant RMS change\n",
    "    rms_change_threshold = np.median(np.abs(rms_change)) * change_threshold_factor\n",
    "\n",
    "    # Find points where RMS change is above the threshold and the previous RMS value is below the 'low' level\n",
    "    significant_changes = np.where((rms_change > rms_change_threshold) & \n",
    "                                   (smooth_rms_energy[:-1] < low_rms_level))[0]\n",
    "\n",
    "    # Convert frame numbers to time and apply cooldown (debouncing)\n",
    "    significant_change_times = []\n",
    "    last_time = 0\n",
    "    for frame in significant_changes:\n",
    "        time = librosa.frames_to_time(frame + 1, sr=sr, hop_length=hop_length)\n",
    "        if time - last_time > cooldown_time:  # Apply cooldown period\n",
    "            significant_change_times.append(time)\n",
    "            last_time = time\n",
    "\n",
    "    return significant_change_times\n",
    "\n",
    "def generateMovesTimestampsFromAudio(inputAudioFolder, inputAudioFilename, outputAudioFolder):\n",
    "  # Initialize separator in '2stems' mode.\n",
    "  separator = Separator('spleeter:2stems')\n",
    "\n",
    "  # Perform the separation.\n",
    "  separator.separate_to_file(inputAudioFolder + \"/\" + inputAudioFilename + \".mp3\", outputAudioFolder)\n",
    "  VocalTrackFilePath = outputAudioFolder + \"/\" + inputAudioFilename + \"/vocals.wav\"\n",
    "\n",
    "  significantAudioHits = analyze_audio(VocalTrackFilePath)\n",
    "\n",
    "  movesArray = [music_ops.get_frameNumberFromSecond30Fps(x) for x in significantAudioHits]\n",
    "\n",
    "  \n",
    "\n",
    "generateMovesTimestampsFromAudio(INPUT_AUDIO_FOLDER, INPUT_AUDIO_FILENAME, OUTPUT_AUDIO_FOLDER)\n"
   ]
  },
  {
   "cell_type": "code",
   "execution_count": 7,
   "metadata": {},
   "outputs": [
    {
     "name": "stderr",
     "output_type": "stream",
     "text": [
      "/Users/daryldd/Documents/misc/mmd-generator/.venv/lib/python3.8/site-packages/numpy/core/fromnumeric.py:3464: RuntimeWarning: Mean of empty slice.\n",
      "  return _methods._mean(a, axis=axis, dtype=dtype,\n",
      "/Users/daryldd/Documents/misc/mmd-generator/.venv/lib/python3.8/site-packages/numpy/core/_methods.py:192: RuntimeWarning: invalid value encountered in scalar divide\n",
      "  ret = ret.dtype.type(ret / rcount)\n"
     ]
    },
    {
     "ename": "BadSegmentationParameters",
     "evalue": "",
     "output_type": "error",
     "traceback": [
      "\u001b[0;31m---------------------------------------------------------------------------\u001b[0m",
      "\u001b[0;31mBadSegmentationParameters\u001b[0m                 Traceback (most recent call last)",
      "Cell \u001b[0;32mIn[7], line 10\u001b[0m\n\u001b[1;32m      8\u001b[0m \u001b[39m# Use ruptures to detect change points\u001b[39;00m\n\u001b[1;32m      9\u001b[0m algo \u001b[39m=\u001b[39m rpt\u001b[39m.\u001b[39mPelt(model\u001b[39m=\u001b[39m\u001b[39m\"\u001b[39m\u001b[39mrbf\u001b[39m\u001b[39m\"\u001b[39m)\u001b[39m.\u001b[39mfit(feature[\u001b[39m0\u001b[39m])\n\u001b[0;32m---> 10\u001b[0m result \u001b[39m=\u001b[39m algo\u001b[39m.\u001b[39;49mpredict(pen\u001b[39m=\u001b[39;49m\u001b[39m10\u001b[39;49m)\n\u001b[1;32m     12\u001b[0m \u001b[39m# Visualize the detected change points on the feature\u001b[39;00m\n\u001b[1;32m     13\u001b[0m plt\u001b[39m.\u001b[39mfigure(figsize\u001b[39m=\u001b[39m(\u001b[39m10\u001b[39m, \u001b[39m6\u001b[39m))\n",
      "File \u001b[0;32m~/Documents/misc/mmd-generator/.venv/lib/python3.8/site-packages/ruptures/detection/pelt.py:128\u001b[0m, in \u001b[0;36mPelt.predict\u001b[0;34m(self, pen)\u001b[0m\n\u001b[1;32m    121\u001b[0m \u001b[39m# raise an exception in case of impossible segmentation configuration\u001b[39;00m\n\u001b[1;32m    122\u001b[0m \u001b[39mif\u001b[39;00m \u001b[39mnot\u001b[39;00m sanity_check(\n\u001b[1;32m    123\u001b[0m     n_samples\u001b[39m=\u001b[39m\u001b[39mself\u001b[39m\u001b[39m.\u001b[39mcost\u001b[39m.\u001b[39msignal\u001b[39m.\u001b[39mshape[\u001b[39m0\u001b[39m],\n\u001b[1;32m    124\u001b[0m     n_bkps\u001b[39m=\u001b[39m\u001b[39m0\u001b[39m,\n\u001b[1;32m    125\u001b[0m     jump\u001b[39m=\u001b[39m\u001b[39mself\u001b[39m\u001b[39m.\u001b[39mjump,\n\u001b[1;32m    126\u001b[0m     min_size\u001b[39m=\u001b[39m\u001b[39mself\u001b[39m\u001b[39m.\u001b[39mmin_size,\n\u001b[1;32m    127\u001b[0m ):\n\u001b[0;32m--> 128\u001b[0m     \u001b[39mraise\u001b[39;00m BadSegmentationParameters\n\u001b[1;32m    130\u001b[0m partition \u001b[39m=\u001b[39m \u001b[39mself\u001b[39m\u001b[39m.\u001b[39m_seg(pen)\n\u001b[1;32m    131\u001b[0m bkps \u001b[39m=\u001b[39m \u001b[39msorted\u001b[39m(e \u001b[39mfor\u001b[39;00m s, e \u001b[39min\u001b[39;00m partition\u001b[39m.\u001b[39mkeys())\n",
      "\u001b[0;31mBadSegmentationParameters\u001b[0m: "
     ]
    }
   ],
   "source": [
    "# Load the audio file and extract a feature\n",
    "outputVocals = OUTPUT_AUDIO_FOLDER + \"/\" + INPUT_AUDIO_FILENAME + \"/\" + \"vocals\" + \".wav\"\n",
    "inputVocals = INPUT_AUDIO_FOLDER + \"/\" + INPUT_AUDIO_FILENAME + \".mp3\"\n",
    "\n",
    "y, sr = librosa.load(inputVocals, sr=None)\n",
    "feature = librosa.feature.rms(y=y)\n",
    "\n",
    "# Use ruptures to detect change points\n",
    "algo = rpt.Pelt(model=\"rbf\").fit(feature[0])\n",
    "result = algo.predict(pen=10)\n",
    "\n",
    "# Visualize the detected change points on the feature\n",
    "plt.figure(figsize=(10, 6))\n",
    "rpt.display(feature[0], [], result)\n",
    "plt.title(\"Change Point Detection on Audio Feature\")\n",
    "plt.show()"
   ]
  },
  {
   "cell_type": "code",
   "execution_count": null,
   "metadata": {},
   "outputs": [],
   "source": [
    "# Generate a silent track for the length of loaded audio\n",
    "hop_length = 512\n",
    "\n",
    "silent_track = np.zeros_like(y)\n",
    "\n",
    "# Load a beep sound (assumed to be short and sampled at the same rate as the main audio)\n",
    "beep, _ = librosa.load('beep_test.wav', sr=sr)\n",
    "\n",
    "# Add a beep sound at detected feature locations\n",
    "for change_point in result:\n",
    "  start_sample = change_point * hop_length  # hop_length is the hop size used in feature extraction (default is 512 for RMS)\n",
    "  end_sample = start_sample + len(beep)\n",
    "  if end_sample < len(silent_track):\n",
    "    silent_track[start_sample:end_sample] += beep\n",
    "\n",
    "# Save the resultant audio\n",
    "sf.write(OUTPUT_AUDIO_FOLDER + \"/\" + 'output_with_beeps.wav', silent_track, sr)"
   ]
  },
  {
   "cell_type": "code",
   "execution_count": null,
   "metadata": {},
   "outputs": [],
   "source": [
    "print(result[:10])\n"
   ]
  }
 ],
 "metadata": {
  "kernelspec": {
   "display_name": ".venv",
   "language": "python",
   "name": "python3"
  },
  "language_info": {
   "codemirror_mode": {
    "name": "ipython",
    "version": 3
   },
   "file_extension": ".py",
   "mimetype": "text/x-python",
   "name": "python",
   "nbconvert_exporter": "python",
   "pygments_lexer": "ipython3",
   "version": "3.8.0"
  },
  "orig_nbformat": 4
 },
 "nbformat": 4,
 "nbformat_minor": 2
}
