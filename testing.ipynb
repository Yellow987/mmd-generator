{
 "cells": [
  {
   "cell_type": "code",
   "execution_count": 6,
   "metadata": {},
   "outputs": [],
   "source": [
    "from Utility import df_ops, music_ops, vmd_ops\n",
    "import pandas as pd"
   ]
  },
  {
   "cell_type": "code",
   "execution_count": 7,
   "metadata": {},
   "outputs": [],
   "source": [
    "VMD_TO_LOAD = 'data/PV311_LIVE_MIK_00.vmd'\n",
    "SONG_TO_LOAD = 'data/SuperDuper/song3_sduper [1].wav'\n",
    "SAVE_FILENAME = 'CLEAR.vmd'"
   ]
  },
  {
   "cell_type": "code",
   "execution_count": 10,
   "metadata": {},
   "outputs": [
    {
     "name": "stdout",
     "output_type": "stream",
     "text": [
      "0\n"
     ]
    }
   ],
   "source": [
    "vmd_ops.saveDfToVmdFile(pd.DataFrame(), SAVE_FILENAME)"
   ]
  },
  {
   "cell_type": "code",
   "execution_count": 5,
   "metadata": {},
   "outputs": [
    {
     "ename": "AttributeError",
     "evalue": "module 'Utility.vmd_ops' has no attribute 'saveDfAsVMD'",
     "output_type": "error",
     "traceback": [
      "\u001b[1;31m---------------------------------------------------------------------------\u001b[0m",
      "\u001b[1;31mAttributeError\u001b[0m                            Traceback (most recent call last)",
      "\u001b[1;32mc:\\Users\\daryl\\OneDrive\\Desktop\\Keep_these\\MMD-python-dance\\testing.ipynb Cell 4\u001b[0m line \u001b[0;36m1\n\u001b[1;32m----> <a href='vscode-notebook-cell:/c%3A/Users/daryl/OneDrive/Desktop/Keep_these/MMD-python-dance/testing.ipynb#W3sZmlsZQ%3D%3D?line=0'>1</a>\u001b[0m vmd_ops\u001b[39m.\u001b[39;49msaveDfAsVMD(df, SAVE_FILENAME)\n",
      "\u001b[1;31mAttributeError\u001b[0m: module 'Utility.vmd_ops' has no attribute 'saveDfAsVMD'"
     ]
    }
   ],
   "source": [
    "vmd_ops.saveDfAsVMD(df, SAVE_FILENAME)"
   ]
  }
 ],
 "metadata": {
  "kernelspec": {
   "display_name": "Python 3",
   "language": "python",
   "name": "python3"
  },
  "language_info": {
   "codemirror_mode": {
    "name": "ipython",
    "version": 3
   },
   "file_extension": ".py",
   "mimetype": "text/x-python",
   "name": "python",
   "nbconvert_exporter": "python",
   "pygments_lexer": "ipython3",
   "version": "3.11.2"
  },
  "orig_nbformat": 4
 },
 "nbformat": 4,
 "nbformat_minor": 2
}
