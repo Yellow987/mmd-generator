{
 "cells": [
  {
   "cell_type": "code",
   "execution_count": 5,
   "metadata": {},
   "outputs": [],
   "source": [
    "from Utility import df_motion_utility, music_ops, vmd_ops\n",
    "import pandas as pd"
   ]
  },
  {
   "cell_type": "code",
   "execution_count": 6,
   "metadata": {},
   "outputs": [],
   "source": [
    "VMD_TO_LOAD = 'data/PV311_LIVE_MIK_00.vmd'\n",
    "SONG_TO_LOAD = 'data/SuperDuper/song3_sduper [1].wav'\n",
    "SAVE_FILENAME = 'saved.vmd'"
   ]
  },
  {
   "cell_type": "code",
   "execution_count": 9,
   "metadata": {},
   "outputs": [
    {
     "name": "stdout",
     "output_type": "stream",
     "text": [
      "   frame  name                                           position  \\\n",
      "0      0  操作中心  <0.000000 0.00000000000000000000000000000000 0...   \n",
      "1      0  全ての親  <-0.000000 0.00000017136335372924804687500000 ...   \n",
      "2      0  センター  <-5.088045 -0.85316556692123413085937500000000...   \n",
      "3      0   下半身  <0.000001 -0.00000000000000000001564055881994 ...   \n",
      "4      0   上半身  <0.000001 -0.00000000000000000000008189246468 ...   \n",
      "\n",
      "                                  rotation  \\\n",
      "0    <0.000000 0.000000 0.000000 1.000000>   \n",
      "1  <0.000000 -0.000000 -0.000000 1.000000>   \n",
      "2   <0.006844 0.125723 -0.157463 0.979465>   \n",
      "3   <0.000000 0.000000 -0.000000 1.000000>   \n",
      "4   <0.052953 -0.025721 0.031727 0.997761>   \n",
      "\n",
      "                                          complement  \n",
      "0  141400141414146b6b6b6b6b6b6b6b141414141414146b...  \n",
      "1  141400141414146b6b6b6b6b6b6b6b141414141414146b...  \n",
      "2  141400141414146b6b6b6b6b6b6b6b141414141414146b...  \n",
      "3  141400141414146b6b6b6b6b6b6b6b141414141414146b...  \n",
      "4  141400141414146b6b6b6b6b6b6b6b141414141414146b...  \n"
     ]
    }
   ],
   "source": [
    "df = vmd_ops.getDfFromVMD(VMD_TO_LOAD)\n",
    "print(df.head())"
   ]
  },
  {
   "cell_type": "code",
   "execution_count": 8,
   "metadata": {},
   "outputs": [
    {
     "ename": "NameError",
     "evalue": "name 'originalVmdDataFrame' is not defined",
     "output_type": "error",
     "traceback": [
      "\u001b[1;31m---------------------------------------------------------------------------\u001b[0m",
      "\u001b[1;31mNameError\u001b[0m                                 Traceback (most recent call last)",
      "\u001b[1;32mc:\\Users\\daryl\\OneDrive\\Desktop\\Keep_these\\MMD-python-dance\\testing.ipynb Cell 4\u001b[0m line \u001b[0;36m2\n\u001b[0;32m      <a href='vscode-notebook-cell:/c%3A/Users/daryl/OneDrive/Desktop/Keep_these/MMD-python-dance/testing.ipynb#X10sZmlsZQ%3D%3D?line=0'>1</a>\u001b[0m newVmdDataFrame \u001b[39m=\u001b[39m pd\u001b[39m.\u001b[39mDataFrame()\n\u001b[1;32m----> <a href='vscode-notebook-cell:/c%3A/Users/daryl/OneDrive/Desktop/Keep_these/MMD-python-dance/testing.ipynb#X10sZmlsZQ%3D%3D?line=1'>2</a>\u001b[0m newVmdDataFrame \u001b[39m=\u001b[39m df_motion_utility\u001b[39m.\u001b[39mappendFrames(newVmdDataFrame, df_motion_utility\u001b[39m.\u001b[39mparseFramesFromDf(originalVmdDataFrame, \u001b[39m3000\u001b[39m, \u001b[39m3150\u001b[39m))\n\u001b[0;32m      <a href='vscode-notebook-cell:/c%3A/Users/daryl/OneDrive/Desktop/Keep_these/MMD-python-dance/testing.ipynb#X10sZmlsZQ%3D%3D?line=2'>3</a>\u001b[0m vmd_ops\u001b[39m.\u001b[39mconvertDataFrameToVMD(vmd_ops\u001b[39m.\u001b[39minitEmptyVmd(), newVmdDataFrame)\n\u001b[0;32m      <a href='vscode-notebook-cell:/c%3A/Users/daryl/OneDrive/Desktop/Keep_these/MMD-python-dance/testing.ipynb#X10sZmlsZQ%3D%3D?line=3'>4</a>\u001b[0m vmd_ops\u001b[39m.\u001b[39msaveToVMD(SAVE_FILENAME, originalVMD)\n",
      "\u001b[1;31mNameError\u001b[0m: name 'originalVmdDataFrame' is not defined"
     ]
    }
   ],
   "source": [
    "vmd_ops.saveDfAsVMD(df, SAVE_FILENAME)"
   ]
  }
 ],
 "metadata": {
  "kernelspec": {
   "display_name": "Python 3",
   "language": "python",
   "name": "python3"
  },
  "language_info": {
   "codemirror_mode": {
    "name": "ipython",
    "version": 3
   },
   "file_extension": ".py",
   "mimetype": "text/x-python",
   "name": "python",
   "nbconvert_exporter": "python",
   "pygments_lexer": "ipython3",
   "version": "3.11.2"
  },
  "orig_nbformat": 4
 },
 "nbformat": 4,
 "nbformat_minor": 2
}
