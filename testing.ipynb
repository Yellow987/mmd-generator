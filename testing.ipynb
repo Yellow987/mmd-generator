{
 "cells": [
  {
   "cell_type": "code",
   "execution_count": 1,
   "metadata": {},
   "outputs": [
    {
     "name": "stderr",
     "output_type": "stream",
     "text": [
      "c:\\Users\\daryl\\AppData\\Local\\Programs\\Python\\Python311\\Lib\\site-packages\\pinecone\\index.py:4: TqdmExperimentalWarning: Using `tqdm.autonotebook.tqdm` in notebook mode. Use `tqdm.tqdm` instead to force console mode (e.g. in jupyter console)\n",
      "  from tqdm.autonotebook import tqdm\n"
     ]
    }
   ],
   "source": [
    "from Utility import df_ops, music_ops, vmd_ops, io_ops, interpolate, cloud_ops\n",
    "import pandas as pd"
   ]
  },
  {
   "cell_type": "code",
   "execution_count": 2,
   "metadata": {},
   "outputs": [],
   "source": [
    "# df = df_ops.loadDfFromFeather('play\\\\play.feather')\n",
    "# df = vmd_ops.filterDataframeForCoreBoneNames(df)\n",
    "# df = interpolate.normalizePositionsToCenter(df)\n",
    "# vmd_ops.saveDfToVmdFile(df, 'play\\\\playCENTER-ROT-nocent.vmd')"
   ]
  },
  {
   "cell_type": "code",
   "execution_count": 3,
   "metadata": {},
   "outputs": [
    {
     "name": "stdout",
     "output_type": "stream",
     "text": [
      "IndexDescription(name='frames', metric='euclidean', replicas=1, dimension=74.0, shards=1, pods=1, pod_type='s1.x1', status={'ready': True, 'state': 'Ready'}, metadata_config=None, source_collection='')\n"
     ]
    }
   ],
   "source": [
    "pinecone = cloud_ops.initPinecone()\n",
    "cloud_ops.getPineconeIndexStats(pinecone, 'frames')"
   ]
  },
  {
   "cell_type": "code",
   "execution_count": 4,
   "metadata": {},
   "outputs": [],
   "source": [
    "import pinecone      \n",
    "\n",
    "pinecone.init(      \n",
    "\tapi_key='dfd0b552-2cfe-4950-a7af-caa64902711c',      \n",
    "\tenvironment='us-west1-gcp'      \n",
    ")      \n",
    "index = pinecone.Index('frames')"
   ]
  }
 ],
 "metadata": {
  "kernelspec": {
   "display_name": "Python 3",
   "language": "python",
   "name": "python3"
  },
  "language_info": {
   "codemirror_mode": {
    "name": "ipython",
    "version": 3
   },
   "file_extension": ".py",
   "mimetype": "text/x-python",
   "name": "python",
   "nbconvert_exporter": "python",
   "pygments_lexer": "ipython3",
   "version": "3.11.2"
  },
  "orig_nbformat": 4
 },
 "nbformat": 4,
 "nbformat_minor": 2
}
