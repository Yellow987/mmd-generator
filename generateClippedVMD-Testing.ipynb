{
 "cells": [
  {
   "cell_type": "code",
   "execution_count": 2,
   "metadata": {},
   "outputs": [],
   "source": [
    "from Utility import df_motion_utility, music_ops, vmd_ops\n",
    "import pandas as pd"
   ]
  },
  {
   "cell_type": "code",
   "execution_count": 3,
   "metadata": {},
   "outputs": [],
   "source": [
    "VMD_TO_LOAD = 'data/PV311_LIVE_MIK_00.vmd'\n",
    "SONG_TO_LOAD = 'data/SuperDuper/song3_sduper [1].wav'\n",
    "SAVE_FILENAME = 'saved.vmd'"
   ]
  },
  {
   "cell_type": "code",
   "execution_count": 11,
   "metadata": {},
   "outputs": [],
   "source": [
    "originalVMD = vmd_ops.loadVMD(VMD_TO_LOAD)\n",
    "originalVmdDataFrame = vmd_ops.convertVMDToDataFrame(originalVMD)\n"
   ]
  },
  {
   "cell_type": "code",
   "execution_count": null,
   "metadata": {},
   "outputs": [],
   "source": [
    "beatTimes = music_ops.get_beatTimesInSeconds(SONG_TO_LOAD)\n",
    "beatFrames = music_ops.get_beatFrames30Fps_from_beatTimesInSeconds(beatTimes)"
   ]
  },
  {
   "cell_type": "code",
   "execution_count": null,
   "metadata": {},
   "outputs": [],
   "source": []
  },
  {
   "cell_type": "code",
   "execution_count": 13,
   "metadata": {},
   "outputs": [
    {
     "name": "stdout",
     "output_type": "stream",
     "text": [
      "123.046875\n"
     ]
    }
   ],
   "source": [
    "newVmdDataFrame = pd.DataFrame()\n",
    "newVmdDataFrame = df_motion_utility.appendFrames(newVmdDataFrame, df_motion_utility.parseFramesFromDf(originalVmdDataFrame, 3000, 3150))\n",
    "vmd_ops.convertDataFrameToVMD(vmd_ops.initEmptyVmd(), newVmdDataFrame)\n",
    "vmd_ops.saveToVMD(SAVE_FILENAME, originalVMD)"
   ]
  },
  {
   "cell_type": "code",
   "execution_count": 5,
   "metadata": {},
   "outputs": [],
   "source": [
    "# newVmdDataFrame = pd.DataFrame()\n",
    "# newVmdDataFrame = appendFrames(newVmdDataFrame, parseFramesFromDf(originalVmdDataFrame, 3000, 3150))\n",
    "# newVmdDataFrame = appendFrames(newVmdDataFrame, parseFramesFromDf(originalVmdDataFrame, 4000, 4150))\n",
    "# newVmdDataFrame = appendFrames(newVmdDataFrame, parseFramesFromDf(originalVmdDataFrame, 5000, 5150))\n",
    "\n",
    "# newVmd = addMotionsToVMD(initEmptyVMD(), newVmdDataFrame)\n",
    "# saveToVMD(SAVE_FILENAME, newVmd)"
   ]
  }
 ],
 "metadata": {
  "kernelspec": {
   "display_name": "Python 3",
   "language": "python",
   "name": "python3"
  },
  "language_info": {
   "codemirror_mode": {
    "name": "ipython",
    "version": 3
   },
   "file_extension": ".py",
   "mimetype": "text/x-python",
   "name": "python",
   "nbconvert_exporter": "python",
   "pygments_lexer": "ipython3",
   "version": "3.11.2"
  },
  "orig_nbformat": 4
 },
 "nbformat": 4,
 "nbformat_minor": 2
}
