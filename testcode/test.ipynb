{
 "cells": [
  {
   "cell_type": "code",
   "execution_count": 39,
   "metadata": {},
   "outputs": [],
   "source": [
    "import numpy as np\n",
    "import librosa\n",
    "import librosa.display\n",
    "import soundfile as sf\n",
    "\n",
    "# Example usage\n",
    "audio_file_path = '../inputAudio/marine.mp3' \n",
    "audio_file_path = '../outputAudio/marine/vocals.wav' \n",
    "output_file_path = '3-3low=to-high.wav'  # Replace with your desired output file path"
   ]
  },
  {
   "cell_type": "code",
   "execution_count": 36,
   "metadata": {},
   "outputs": [
    {
     "name": "stdout",
     "output_type": "stream",
     "text": [
      "[0.56, 3.03, 4.72, 9.15, 13.87, 23.22, 23.54, 24.65, 25.48, 25.9, 27.29, 32.13, 33.52, 33.79, 35.02, 40.98, 42.08, 42.38, 42.95, 44.52, 45.14, 49.84, 50.4, 51.24, 53.4, 55.68, 55.94, 56.75, 61.2, 63.67, 63.97, 64.54, 65.65, 66.06, 68.12, 70.92, 75.06, 75.62, 76.75, 78.95, 79.46, 82.27, 85.88, 86.14, 86.98, 87.25, 88.64, 92.19, 93.63, 94.74, 95.84, 97.23, 106.35, 107.75, 108.51, 116.89, 118.11, 124.04, 126.05, 127.69, 128.53, 129.23, 129.91, 130.46, 131.01, 132.96, 133.5, 134.88, 138.79, 144.3, 146.8, 148.75, 149.16, 151.23, 151.51, 157.54, 158.15, 158.69, 159.74, 161.96, 162.58, 165.37, 166.9, 168.96, 169.52, 170.09, 175.34, 175.87, 176.73, 177.56, 178.11, 178.94, 180.03, 193.49, 194.35, 195.28, 198.01, 199.91, 201.96, 205.26, 206.36, 206.78, 208.85, 209.14, 210.67, 211.63, 214.88, 215.16, 215.78, 216.06, 216.32, 216.62, 219.54, 220.18, 222.15, 222.4, 222.99, 226.6, 226.87, 228.81, 232.92, 235.19, 235.45, 235.73, 236.28, 236.56, 237.38, 239.87, 240.72, 244.59, 245.69, 247.1, 251.24, 251.51, 251.8, 252.9, 255.11, 262.01, 262.32, 263.15, 268.43, 270.91, 271.74, 272.02, 272.67, 273.36, 275.31, 277.29, 281.16, 286.69, 287.25, 288.34, 291.09]\n"
     ]
    }
   ],
   "source": [
    "def analyze_audio(audio_file_path, rms_window_length=0.02, rms_hop_length=0.01, \n",
    "                  change_threshold_factor=2.5, cooldown_time=0.2, low_level_percentile=25):\n",
    "    # Load the audio file\n",
    "    y, sr = librosa.load(audio_file_path, sr=None)\n",
    "\n",
    "    # Calculate the RMS energy for each frame\n",
    "    frame_length = int(rms_window_length * sr)\n",
    "    hop_length = int(rms_hop_length * sr)\n",
    "    rms_energy = librosa.feature.rms(y=y, frame_length=frame_length, hop_length=hop_length)[0]\n",
    "\n",
    "    # Smooth the RMS energy using a moving average\n",
    "    smooth_rms_energy = np.convolve(rms_energy, np.ones(3)/3, mode='valid')\n",
    "\n",
    "    # Calculate the change in RMS energy between consecutive frames\n",
    "    rms_change = np.diff(smooth_rms_energy)\n",
    "\n",
    "    # Define 'low' RMS energy level as a percentile of the RMS energy\n",
    "    low_rms_level = np.percentile(smooth_rms_energy, low_level_percentile)\n",
    "\n",
    "    # Define a threshold for significant RMS change\n",
    "    rms_change_threshold = np.median(np.abs(rms_change)) * change_threshold_factor\n",
    "\n",
    "    # Find points where RMS change is above the threshold and the previous RMS value is below the 'low' level\n",
    "    significant_changes = np.where((rms_change > rms_change_threshold) & \n",
    "                                   (smooth_rms_energy[:-1] < low_rms_level))[0]\n",
    "\n",
    "    # Convert frame numbers to time and apply cooldown (debouncing)\n",
    "    significant_change_times = []\n",
    "    last_time = 0\n",
    "    for frame in significant_changes:\n",
    "        time = librosa.frames_to_time(frame + 1, sr=sr, hop_length=hop_length)\n",
    "        if time - last_time > cooldown_time:  # Apply cooldown period\n",
    "            significant_change_times.append(time)\n",
    "            last_time = time\n",
    "\n",
    "    return significant_change_times\n",
    "\n",
    "\n",
    "\n",
    "# Replace 'path_to_audio_file.mp3' with the path to your MP3 file\n",
    "onset_times = analyze_audio(audio_file_path)\n",
    "print(onset_times)\n"
   ]
  },
  {
   "cell_type": "code",
   "execution_count": 38,
   "metadata": {},
   "outputs": [],
   "source": [
    "\n",
    "\n",
    "def generate_beep(duration=0.1, frequency=1000.0, sample_rate=22050):\n",
    "    t = np.linspace(0, duration, int(sample_rate * duration), False)\n",
    "    beep = np.sin(2 * np.pi * frequency * t) * 0.5\n",
    "    return beep\n",
    "\n",
    "def create_beep_audio(onset_times, sample_rate=22050, output_file_path='beep_audio.wav'):\n",
    "    if not onset_times:\n",
    "        raise ValueError(\"Onset times array is empty\")\n",
    "\n",
    "    # Generate a beep sound\n",
    "    beep_duration = 0.1  # duration of the beep in seconds\n",
    "    beep = generate_beep(duration=beep_duration, frequency=1000.0, sample_rate=sample_rate)\n",
    "\n",
    "    # Calculate the duration of the audio based on the last onset time\n",
    "    max_onset_time = max(onset_times)\n",
    "    audio_duration = max_onset_time + beep_duration\n",
    "\n",
    "    # Create a silent audio signal of the required length\n",
    "    silent_audio = np.zeros(int(audio_duration * sample_rate))\n",
    "\n",
    "    # Insert the beep at each onset time\n",
    "    for onset_time in onset_times:\n",
    "        start_sample = int(onset_time * sample_rate)\n",
    "        end_sample = start_sample + len(beep)\n",
    "        \n",
    "        # Ensure the beep doesn't go past the end of the audio\n",
    "        if end_sample <= len(silent_audio):\n",
    "            silent_audio[start_sample:end_sample] += beep\n",
    "        else:\n",
    "            # If the beep would go past the end, just add what can fit\n",
    "            silent_audio[start_sample:] += beep[:len(silent_audio) - start_sample]\n",
    "            \n",
    "    # Write the beep audio signal to the output file\n",
    "    sf.write(output_file_path, silent_audio, sample_rate)\n",
    "\n",
    "create_beep_audio(onset_times, output_file_path=output_file_path)\n"
   ]
  },
  {
   "cell_type": "code",
   "execution_count": 40,
   "metadata": {},
   "outputs": [
    {
     "ename": "ModuleNotFoundError",
     "evalue": "No module named 'Utility'",
     "output_type": "error",
     "traceback": [
      "\u001b[1;31m---------------------------------------------------------------------------\u001b[0m",
      "\u001b[1;31mModuleNotFoundError\u001b[0m                       Traceback (most recent call last)",
      "\u001b[1;32mc:\\Users\\daryl\\OneDrive\\Desktop\\Keep_these\\MMD-python-dance\\testcode\\test.ipynb Cell 4\u001b[0m line \u001b[0;36m1\n\u001b[1;32m----> <a href='vscode-notebook-cell:/c%3A/Users/daryl/OneDrive/Desktop/Keep_these/MMD-python-dance/testcode/test.ipynb#W3sZmlsZQ%3D%3D?line=0'>1</a>\u001b[0m \u001b[39mfrom\u001b[39;00m \u001b[39mUtility\u001b[39;00m \u001b[39mimport\u001b[39;00m music_ops\n\u001b[0;32m      <a href='vscode-notebook-cell:/c%3A/Users/daryl/OneDrive/Desktop/Keep_these/MMD-python-dance/testcode/test.ipynb#W3sZmlsZQ%3D%3D?line=1'>2</a>\u001b[0m music_ops\u001b[39m.\u001b[39mget_beeptrack_from_timestamps(audio_file_path, output_file_path)\n",
      "\u001b[1;31mModuleNotFoundError\u001b[0m: No module named 'Utility'"
     ]
    }
   ],
   "source": [
    "from Utility import music_ops\n",
    "music_ops.get_beeptrack_from_timestamps('/outputAudio/marine/vocals.wav', '3-3low=to-high.wav')\n"
   ]
  }
 ],
 "metadata": {
  "kernelspec": {
   "display_name": ".mmd",
   "language": "python",
   "name": "python3"
  },
  "language_info": {
   "codemirror_mode": {
    "name": "ipython",
    "version": 3
   },
   "file_extension": ".py",
   "mimetype": "text/x-python",
   "name": "python",
   "nbconvert_exporter": "python",
   "pygments_lexer": "ipython3",
   "version": "3.8.0"
  }
 },
 "nbformat": 4,
 "nbformat_minor": 2
}
